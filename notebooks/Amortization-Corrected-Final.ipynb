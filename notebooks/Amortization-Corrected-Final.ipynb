{
 "cells": [
  {
   "cell_type": "markdown",
   "metadata": {
    "deletable": true,
    "editable": true
   },
   "source": [
    "Updated Notebook from Practical Business Python.\n",
    "\n",
    "Original article had a model that did not work correctly. This notebook is for the [updated article](amortization-model-revised.html).\n",
    "\n",
    "Many thanks to the individuals that helped me fix the errors. The solution below is based heavily on this [gist](https://gist.github.com/sjmallon/e1ca2aee4574d5517b8d31c93832222a) and comments on [reddit](https://www.reddit.com/r/Python/comments/5e3xab/building_a_financial_model_with_pandas/?st=iwjk8alv&sh=d721fcd7)."
   ]
  },
  {
   "cell_type": "code",
   "execution_count": 1,
   "metadata": {
    "collapsed": true,
    "deletable": true,
    "editable": true
   },
   "outputs": [],
   "source": [
    "import pandas as pd\n",
    "from datetime import date\n",
    "import numpy as np\n",
    "from collections import OrderedDict\n",
    "from dateutil.relativedelta import *\n",
    "import matplotlib.pyplot as plt\n",
    "from IPython.core.pylabtools import figsize"
   ]
  },
  {
   "cell_type": "markdown",
   "metadata": {
    "deletable": true,
    "editable": true
   },
   "source": [
    "Build a payment schedule using a generator that can be easily read into a pandas dataframe for additional analysis and plotting"
   ]
  },
  {
   "cell_type": "code",
   "execution_count": 2,
   "metadata": {
    "collapsed": true,
    "deletable": true,
    "editable": true
   },
   "outputs": [],
   "source": [
    "def amortize(principal, interest_rate, years, pmt, addl_principal, start_date, annual_payments):\n",
    "    \"\"\"\n",
    "    Calculate the amortization schedule given the loan details.\n",
    "\n",
    "    :param principal: Amount borrowed\n",
    "    :param interest_rate: The annual interest rate for this loan\n",
    "    :param years: Number of years for the loan\n",
    "    :param pmt: Payment amount per period\n",
    "    :param addl_principal: Additional payments to be made each period.\n",
    "    :param start_date: Start date for the loan.\n",
    "    :param annual_payments: Number of payments in a year.\n",
    "\n",
    "    :return: \n",
    "        schedule: Amortization schedule as an Ortdered Dictionary\n",
    "    \"\"\"\n",
    "\n",
    "    # initialize the variables to keep track of the periods and running balances\n",
    "    p = 1\n",
    "    beg_balance = principal\n",
    "    end_balance = principal\n",
    "    \n",
    "    while end_balance > 0:\n",
    "        \n",
    "        # Recalculate the interest based on the current balance\n",
    "        interest = round(((interest_rate/annual_payments) * beg_balance), 2)\n",
    "        \n",
    "        # Determine payment based on whether or not this period will pay off the loan\n",
    "        pmt = min(pmt, beg_balance + interest)\n",
    "        principal = pmt - interest\n",
    "        \n",
    "        # Ensure additional payment gets adjusted if the loan is being paid off\n",
    "        addl_principal = min(addl_principal, beg_balance - principal)\n",
    "        end_balance = beg_balance - (principal + addl_principal)\n",
    "\n",
    "        yield OrderedDict([('Month',start_date),\n",
    "                           ('Period', p),\n",
    "                           ('Begin Balance', beg_balance),\n",
    "                           ('Payment', pmt),\n",
    "                           ('Principal', principal),\n",
    "                           ('Interest', interest),\n",
    "                           ('Additional_Payment', addl_principal),\n",
    "                           ('End Balance', end_balance)])\n",
    "        \n",
    "        # Increment the counter, balance and date\n",
    "        p += 1\n",
    "        start_date += relativedelta(months=1)\n",
    "        beg_balance = end_balance"
   ]
  },
  {
   "cell_type": "markdown",
   "metadata": {
    "deletable": true,
    "editable": true
   },
   "source": [
    "Wrapper function to call `amortize`.\n",
    "\n",
    "This function primarily cleans up the table and provides summary stats so it is easy to compare various scenarios."
   ]
  },
  {
   "cell_type": "code",
   "execution_count": 3,
   "metadata": {
    "collapsed": true,
    "deletable": true,
    "editable": true
   },
   "outputs": [],
   "source": [
    "def amortization_table(principal, interest_rate, years,\n",
    "                       addl_principal=0, annual_payments=12, start_date=date.today()):\n",
    "    \"\"\"\n",
    "    Calculate the amortization schedule given the loan details as well as summary stats for the loan\n",
    "\n",
    "    :param principal: Amount borrowed\n",
    "    :param interest_rate: The annual interest rate for this loan\n",
    "    :param years: Number of years for the loan\n",
    "    \n",
    "    :param annual_payments (optional): Number of payments in a year. DEfault 12.\n",
    "    :param addl_principal (optional): Additional payments to be made each period. Default 0.\n",
    "    :param start_date (optional): Start date. Default first of next month if none provided\n",
    "\n",
    "    :return: \n",
    "        schedule: Amortization schedule as a pandas dataframe\n",
    "        summary: Pandas dataframe that summarizes the payoff information\n",
    "    \"\"\"\n",
    "    \n",
    "    # Payment stays constant based on the original terms of the loan\n",
    "    payment = -round(np.pmt(interest_rate/annual_payments, years*annual_payments, principal), 2)\n",
    "    \n",
    "    # Generate the schedule and order the resulting columns for convenience\n",
    "    schedule = pd.DataFrame(amortize(principal, interest_rate, years, payment,\n",
    "                                     addl_principal, start_date, annual_payments))\n",
    "    schedule = schedule[[\"Period\", \"Month\", \"Begin Balance\", \"Payment\", \"Interest\", \n",
    "                         \"Principal\", \"Additional_Payment\", \"End Balance\"]]\n",
    "    \n",
    "    # Convert to a datetime object to make subsequent calcs easier\n",
    "    schedule[\"Month\"] = pd.to_datetime(schedule[\"Month\"])\n",
    "    \n",
    "    #Create a summary statistics table\n",
    "    payoff_date = schedule[\"Month\"].iloc[-1]\n",
    "    stats = pd.Series([payoff_date, schedule[\"Period\"].count(), interest_rate,\n",
    "                       years, principal, payment, addl_principal,\n",
    "                       schedule[\"Interest\"].sum()],\n",
    "                       index=[\"Payoff Date\", \"Num Payments\", \"Interest Rate\", \"Years\", \"Principal\",\n",
    "                             \"Payment\", \"Additional Payment\", \"Total Interest\"])\n",
    "    \n",
    "    return schedule, stats"
   ]
  },
  {
   "cell_type": "markdown",
   "metadata": {
    "deletable": true,
    "editable": true
   },
   "source": [
    "Example showing how to call the function"
   ]
  },
  {
   "cell_type": "code",
   "execution_count": 4,
   "metadata": {
    "collapsed": false,
    "deletable": true,
    "editable": true
   },
   "outputs": [],
   "source": [
    "df, stats = amortization_table(700000, .04, 30, addl_principal=200, start_date=date(2016, 1,1))"
   ]
  },
  {
   "cell_type": "code",
   "execution_count": 5,
   "metadata": {
    "collapsed": false,
    "deletable": true,
    "editable": true
   },
   "outputs": [
    {
     "data": {
      "text/plain": [
       "Payoff Date           2042-12-01 00:00:00\n",
       "Num Payments                          324\n",
       "Interest Rate                        0.04\n",
       "Years                                  30\n",
       "Principal                          700000\n",
       "Payment                           3341.91\n",
       "Additional Payment                    200\n",
       "Total Interest                     444406\n",
       "dtype: object"
      ]
     },
     "execution_count": 5,
     "metadata": {},
     "output_type": "execute_result"
    }
   ],
   "source": [
    "stats"
   ]
  },
  {
   "cell_type": "code",
   "execution_count": 6,
   "metadata": {
    "collapsed": false,
    "deletable": true,
    "editable": true
   },
   "outputs": [
    {
     "data": {
      "text/html": [
       "<div>\n",
       "<table border=\"1\" class=\"dataframe\">\n",
       "  <thead>\n",
       "    <tr style=\"text-align: right;\">\n",
       "      <th></th>\n",
       "      <th>Period</th>\n",
       "      <th>Month</th>\n",
       "      <th>Begin Balance</th>\n",
       "      <th>Payment</th>\n",
       "      <th>Interest</th>\n",
       "      <th>Principal</th>\n",
       "      <th>Additional_Payment</th>\n",
       "      <th>End Balance</th>\n",
       "    </tr>\n",
       "  </thead>\n",
       "  <tbody>\n",
       "    <tr>\n",
       "      <th>0</th>\n",
       "      <td>1</td>\n",
       "      <td>2016-01-01</td>\n",
       "      <td>700000.00</td>\n",
       "      <td>3341.91</td>\n",
       "      <td>2333.33</td>\n",
       "      <td>1008.58</td>\n",
       "      <td>200.0</td>\n",
       "      <td>698791.42</td>\n",
       "    </tr>\n",
       "    <tr>\n",
       "      <th>1</th>\n",
       "      <td>2</td>\n",
       "      <td>2016-02-01</td>\n",
       "      <td>698791.42</td>\n",
       "      <td>3341.91</td>\n",
       "      <td>2329.30</td>\n",
       "      <td>1012.61</td>\n",
       "      <td>200.0</td>\n",
       "      <td>697578.81</td>\n",
       "    </tr>\n",
       "    <tr>\n",
       "      <th>2</th>\n",
       "      <td>3</td>\n",
       "      <td>2016-03-01</td>\n",
       "      <td>697578.81</td>\n",
       "      <td>3341.91</td>\n",
       "      <td>2325.26</td>\n",
       "      <td>1016.65</td>\n",
       "      <td>200.0</td>\n",
       "      <td>696362.16</td>\n",
       "    </tr>\n",
       "    <tr>\n",
       "      <th>3</th>\n",
       "      <td>4</td>\n",
       "      <td>2016-04-01</td>\n",
       "      <td>696362.16</td>\n",
       "      <td>3341.91</td>\n",
       "      <td>2321.21</td>\n",
       "      <td>1020.70</td>\n",
       "      <td>200.0</td>\n",
       "      <td>695141.46</td>\n",
       "    </tr>\n",
       "    <tr>\n",
       "      <th>4</th>\n",
       "      <td>5</td>\n",
       "      <td>2016-05-01</td>\n",
       "      <td>695141.46</td>\n",
       "      <td>3341.91</td>\n",
       "      <td>2317.14</td>\n",
       "      <td>1024.77</td>\n",
       "      <td>200.0</td>\n",
       "      <td>693916.69</td>\n",
       "    </tr>\n",
       "  </tbody>\n",
       "</table>\n",
       "</div>"
      ],
      "text/plain": [
       "   Period      Month  Begin Balance  Payment  Interest  Principal  \\\n",
       "0       1 2016-01-01      700000.00  3341.91   2333.33    1008.58   \n",
       "1       2 2016-02-01      698791.42  3341.91   2329.30    1012.61   \n",
       "2       3 2016-03-01      697578.81  3341.91   2325.26    1016.65   \n",
       "3       4 2016-04-01      696362.16  3341.91   2321.21    1020.70   \n",
       "4       5 2016-05-01      695141.46  3341.91   2317.14    1024.77   \n",
       "\n",
       "   Additional_Payment  End Balance  \n",
       "0               200.0    698791.42  \n",
       "1               200.0    697578.81  \n",
       "2               200.0    696362.16  \n",
       "3               200.0    695141.46  \n",
       "4               200.0    693916.69  "
      ]
     },
     "execution_count": 6,
     "metadata": {},
     "output_type": "execute_result"
    }
   ],
   "source": [
    "df.head()"
   ]
  },
  {
   "cell_type": "code",
   "execution_count": 7,
   "metadata": {
    "collapsed": false,
    "deletable": true,
    "editable": true
   },
   "outputs": [
    {
     "data": {
      "text/html": [
       "<div>\n",
       "<table border=\"1\" class=\"dataframe\">\n",
       "  <thead>\n",
       "    <tr style=\"text-align: right;\">\n",
       "      <th></th>\n",
       "      <th>Period</th>\n",
       "      <th>Month</th>\n",
       "      <th>Begin Balance</th>\n",
       "      <th>Payment</th>\n",
       "      <th>Interest</th>\n",
       "      <th>Principal</th>\n",
       "      <th>Additional_Payment</th>\n",
       "      <th>End Balance</th>\n",
       "    </tr>\n",
       "  </thead>\n",
       "  <tbody>\n",
       "    <tr>\n",
       "      <th>319</th>\n",
       "      <td>320</td>\n",
       "      <td>2042-08-01</td>\n",
       "      <td>14413.65</td>\n",
       "      <td>3341.91</td>\n",
       "      <td>48.05</td>\n",
       "      <td>3293.86</td>\n",
       "      <td>200.0</td>\n",
       "      <td>10919.79</td>\n",
       "    </tr>\n",
       "    <tr>\n",
       "      <th>320</th>\n",
       "      <td>321</td>\n",
       "      <td>2042-09-01</td>\n",
       "      <td>10919.79</td>\n",
       "      <td>3341.91</td>\n",
       "      <td>36.40</td>\n",
       "      <td>3305.51</td>\n",
       "      <td>200.0</td>\n",
       "      <td>7414.28</td>\n",
       "    </tr>\n",
       "    <tr>\n",
       "      <th>321</th>\n",
       "      <td>322</td>\n",
       "      <td>2042-10-01</td>\n",
       "      <td>7414.28</td>\n",
       "      <td>3341.91</td>\n",
       "      <td>24.71</td>\n",
       "      <td>3317.20</td>\n",
       "      <td>200.0</td>\n",
       "      <td>3897.08</td>\n",
       "    </tr>\n",
       "    <tr>\n",
       "      <th>322</th>\n",
       "      <td>323</td>\n",
       "      <td>2042-11-01</td>\n",
       "      <td>3897.08</td>\n",
       "      <td>3341.91</td>\n",
       "      <td>12.99</td>\n",
       "      <td>3328.92</td>\n",
       "      <td>200.0</td>\n",
       "      <td>368.16</td>\n",
       "    </tr>\n",
       "    <tr>\n",
       "      <th>323</th>\n",
       "      <td>324</td>\n",
       "      <td>2042-12-01</td>\n",
       "      <td>368.16</td>\n",
       "      <td>369.39</td>\n",
       "      <td>1.23</td>\n",
       "      <td>368.16</td>\n",
       "      <td>0.0</td>\n",
       "      <td>0.00</td>\n",
       "    </tr>\n",
       "  </tbody>\n",
       "</table>\n",
       "</div>"
      ],
      "text/plain": [
       "     Period      Month  Begin Balance  Payment  Interest  Principal  \\\n",
       "319     320 2042-08-01       14413.65  3341.91     48.05    3293.86   \n",
       "320     321 2042-09-01       10919.79  3341.91     36.40    3305.51   \n",
       "321     322 2042-10-01        7414.28  3341.91     24.71    3317.20   \n",
       "322     323 2042-11-01        3897.08  3341.91     12.99    3328.92   \n",
       "323     324 2042-12-01         368.16   369.39      1.23     368.16   \n",
       "\n",
       "     Additional_Payment  End Balance  \n",
       "319               200.0     10919.79  \n",
       "320               200.0      7414.28  \n",
       "321               200.0      3897.08  \n",
       "322               200.0       368.16  \n",
       "323                 0.0         0.00  "
      ]
     },
     "execution_count": 7,
     "metadata": {},
     "output_type": "execute_result"
    }
   ],
   "source": [
    "df.tail()"
   ]
  },
  {
   "cell_type": "markdown",
   "metadata": {
    "deletable": true,
    "editable": true
   },
   "source": [
    "Make multiple calls to compare scenarios"
   ]
  },
  {
   "cell_type": "code",
   "execution_count": 8,
   "metadata": {
    "collapsed": false,
    "deletable": true,
    "editable": true
   },
   "outputs": [],
   "source": [
    "schedule1, stats1 = amortization_table(100000, .04, 30, addl_principal=50, start_date=date(2016,1,1))\n",
    "schedule2, stats2 = amortization_table(100000, .05, 30, addl_principal=200, start_date=date(2016,1,1))\n",
    "schedule3, stats3 = amortization_table(100000, .04, 15, addl_principal=0, start_date=date(2016,1,1))"
   ]
  },
  {
   "cell_type": "code",
   "execution_count": 9,
   "metadata": {
    "collapsed": false,
    "deletable": true,
    "editable": true
   },
   "outputs": [
    {
     "data": {
      "text/html": [
       "<div>\n",
       "<table border=\"1\" class=\"dataframe\">\n",
       "  <thead>\n",
       "    <tr style=\"text-align: right;\">\n",
       "      <th></th>\n",
       "      <th>Payoff Date</th>\n",
       "      <th>Num Payments</th>\n",
       "      <th>Interest Rate</th>\n",
       "      <th>Years</th>\n",
       "      <th>Principal</th>\n",
       "      <th>Payment</th>\n",
       "      <th>Additional Payment</th>\n",
       "      <th>Total Interest</th>\n",
       "    </tr>\n",
       "  </thead>\n",
       "  <tbody>\n",
       "    <tr>\n",
       "      <th>0</th>\n",
       "      <td>2041-01-01</td>\n",
       "      <td>301</td>\n",
       "      <td>0.04</td>\n",
       "      <td>30</td>\n",
       "      <td>100000</td>\n",
       "      <td>477.42</td>\n",
       "      <td>50</td>\n",
       "      <td>58441.08</td>\n",
       "    </tr>\n",
       "    <tr>\n",
       "      <th>1</th>\n",
       "      <td>2032-09-01</td>\n",
       "      <td>201</td>\n",
       "      <td>0.05</td>\n",
       "      <td>30</td>\n",
       "      <td>100000</td>\n",
       "      <td>536.82</td>\n",
       "      <td>200</td>\n",
       "      <td>47708.38</td>\n",
       "    </tr>\n",
       "    <tr>\n",
       "      <th>2</th>\n",
       "      <td>2030-12-01</td>\n",
       "      <td>180</td>\n",
       "      <td>0.04</td>\n",
       "      <td>15</td>\n",
       "      <td>100000</td>\n",
       "      <td>739.69</td>\n",
       "      <td>0</td>\n",
       "      <td>33143.79</td>\n",
       "    </tr>\n",
       "  </tbody>\n",
       "</table>\n",
       "</div>"
      ],
      "text/plain": [
       "  Payoff Date  Num Payments  Interest Rate  Years  Principal  Payment  \\\n",
       "0  2041-01-01           301           0.04     30     100000   477.42   \n",
       "1  2032-09-01           201           0.05     30     100000   536.82   \n",
       "2  2030-12-01           180           0.04     15     100000   739.69   \n",
       "\n",
       "   Additional Payment  Total Interest  \n",
       "0                  50        58441.08  \n",
       "1                 200        47708.38  \n",
       "2                   0        33143.79  "
      ]
     },
     "execution_count": 9,
     "metadata": {},
     "output_type": "execute_result"
    }
   ],
   "source": [
    "pd.DataFrame([stats1, stats2, stats3])"
   ]
  },
  {
   "cell_type": "markdown",
   "metadata": {
    "deletable": true,
    "editable": true
   },
   "source": [
    "Make some plots to show scenarios"
   ]
  },
  {
   "cell_type": "code",
   "execution_count": 10,
   "metadata": {
    "collapsed": true,
    "deletable": true,
    "editable": true
   },
   "outputs": [],
   "source": [
    "%matplotlib inline\n",
    "plt.style.use('ggplot')"
   ]
  },
  {
   "cell_type": "code",
   "execution_count": 11,
   "metadata": {
    "collapsed": false,
    "deletable": true,
    "editable": true
   },
   "outputs": [
    {
     "data": {
      "image/png": "[encoded data removed]",
      "text/plain": [
       "<matplotlib.figure.Figure at 0x7f28e7543eb8>"
      ]
     },
     "metadata": {},
     "output_type": "display_data"
    }
   ],
   "source": [
    "fig, ax = plt.subplots(1, 1)\n",
    "schedule1.plot(x='Month', y='End Balance', label=\"Scenario 1\", ax=ax)\n",
    "schedule2.plot(x='Month', y='End Balance', label=\"Scenario 2\", ax=ax)\n",
    "schedule3.plot(x='Month', y='End Balance', label=\"Scenario 3\", ax=ax)\n",
    "plt.title(\"Pay Off Timelines\");"
   ]
  },
  {
   "cell_type": "code",
   "execution_count": 12,
   "metadata": {
    "collapsed": false,
    "deletable": true,
    "editable": true
   },
   "outputs": [],
   "source": [
    "def make_plot_data(schedule, stats):\n",
    "    \"\"\"Create a dataframe with annual interest totals, and a descriptive label\"\"\"\n",
    "    y = schedule.set_index('Month')['Interest'].resample(\"A\").sum().reset_index()\n",
    "    y[\"Year\"] = y[\"Month\"].dt.year\n",
    "    y.set_index('Year', inplace=True)\n",
    "    y.drop('Month', 1, inplace=True)\n",
    "    label=\"{} years at {}% with additional payment of ${}\".format(stats['Years'], stats['Interest Rate']*100, stats['Additional Payment'])\n",
    "    return y, label\n",
    "    \n",
    "y1, label1 = make_plot_data(schedule1, stats1)\n",
    "y2, label2 = make_plot_data(schedule2, stats2)\n",
    "y3, label3 = make_plot_data(schedule3, stats3)\n",
    "\n",
    "y = pd.concat([y1, y2, y3], axis=1)"
   ]
  },
  {
   "cell_type": "code",
   "execution_count": 13,
   "metadata": {
    "collapsed": false,
    "deletable": true,
    "editable": true
   },
   "outputs": [
    {
     "data": {
      "image/png": "[encoded data removed]",
      "text/plain": [
       "<matplotlib.figure.Figure at 0x7f28e75d6dd8>"
      ]
     },
     "metadata": {},
     "output_type": "display_data"
    }
   ],
   "source": [
    "figsize(7,5)\n",
    "fig, ax = plt.subplots(1, 1)\n",
    "y.plot(kind=\"bar\", ax=ax)\n",
    "\n",
    "plt.legend([label1, label2, label3], loc=1, prop={'size':10})\n",
    "plt.title(\"Interest Payments\");"
   ]
  },
  {
   "cell_type": "code",
   "execution_count": 14,
   "metadata": {
    "collapsed": false,
    "deletable": true,
    "editable": true
   },
   "outputs": [
    {
     "data": {
      "image/png": "[encoded data removed]",
      "text/plain": [
       "<matplotlib.figure.Figure at 0x7f28e4959400>"
      ]
     },
     "metadata": {},
     "output_type": "display_data"
    }
   ],
   "source": [
    "additional_payments = [0, 50, 200, 500]\n",
    "fig, ax = plt.subplots(1, 1)\n",
    "\n",
    "for pmt in additional_payments:\n",
    "    result, _ = amortization_table(100000, .04, 30, addl_principal=pmt, start_date=date(2016,1,1))\n",
    "    ax.plot(result['Month'], result['End Balance'], label='Addl Payment = ${}'.format(str(pmt)))\n",
    "plt.title(\"Pay Off Timelines\")\n",
    "plt.ylabel(\"Balance\")\n",
    "ax.legend();"
   ]
  },
  {
   "cell_type": "markdown",
   "metadata": {
    "collapsed": true,
    "deletable": true,
    "editable": true
   },
   "source": [
    "# *Current Meyers Mortgage*\n",
    "Rate: 3.5%\n",
    "Original loan amount: $242,200.00\n",
    "Loan origination date: 01/09/2013\n",
    "First payment: 03/01/2013\n",
    "Chase doesn't show transactions that far\n",
    "Payment date: 04/01/2014\n",
    "  PAYMENT\t$1,087.59\n",
    "  Principal $395.88\n",
    "  Interest  $691.71\n",
    "  New balance: $236,761.23 (off by a penny)\n"
   ]
  },
  {
   "cell_type": "code",
   "execution_count": 24,
   "metadata": {
    "collapsed": true
   },
   "outputs": [],
   "source": [
    "df, stats = amortization_table(242200, .035, 30, addl_principal=0, start_date=date(2013,3,1))"
   ]
  },
  {
   "cell_type": "code",
   "execution_count": 25,
   "metadata": {
    "collapsed": false
   },
   "outputs": [
    {
     "data": {
      "text/plain": [
       "Payoff Date           2043-02-01 00:00:00\n",
       "Num Payments                          360\n",
       "Interest Rate                       0.035\n",
       "Years                                  30\n",
       "Principal                          242200\n",
       "Payment                           1087.59\n",
       "Additional Payment                      0\n",
       "Total Interest                     149330\n",
       "dtype: object"
      ]
     },
     "execution_count": 25,
     "metadata": {},
     "output_type": "execute_result"
    }
   ],
   "source": [
    "stats"
   ]
  },
  {
   "cell_type": "code",
   "execution_count": 27,
   "metadata": {
    "collapsed": false
   },
   "outputs": [
    {
     "data": {
      "text/html": [
       "<div>\n",
       "<table border=\"1\" class=\"dataframe\">\n",
       "  <thead>\n",
       "    <tr style=\"text-align: right;\">\n",
       "      <th></th>\n",
       "      <th>Period</th>\n",
       "      <th>Month</th>\n",
       "      <th>Begin Balance</th>\n",
       "      <th>Payment</th>\n",
       "      <th>Interest</th>\n",
       "      <th>Principal</th>\n",
       "      <th>Additional_Payment</th>\n",
       "      <th>End Balance</th>\n",
       "    </tr>\n",
       "  </thead>\n",
       "  <tbody>\n",
       "    <tr>\n",
       "      <th>0</th>\n",
       "      <td>1</td>\n",
       "      <td>2013-03-01</td>\n",
       "      <td>242200.00</td>\n",
       "      <td>1087.59</td>\n",
       "      <td>706.42</td>\n",
       "      <td>381.17</td>\n",
       "      <td>0</td>\n",
       "      <td>241818.83</td>\n",
       "    </tr>\n",
       "    <tr>\n",
       "      <th>1</th>\n",
       "      <td>2</td>\n",
       "      <td>2013-04-01</td>\n",
       "      <td>241818.83</td>\n",
       "      <td>1087.59</td>\n",
       "      <td>705.30</td>\n",
       "      <td>382.29</td>\n",
       "      <td>0</td>\n",
       "      <td>241436.54</td>\n",
       "    </tr>\n",
       "    <tr>\n",
       "      <th>2</th>\n",
       "      <td>3</td>\n",
       "      <td>2013-05-01</td>\n",
       "      <td>241436.54</td>\n",
       "      <td>1087.59</td>\n",
       "      <td>704.19</td>\n",
       "      <td>383.40</td>\n",
       "      <td>0</td>\n",
       "      <td>241053.14</td>\n",
       "    </tr>\n",
       "    <tr>\n",
       "      <th>3</th>\n",
       "      <td>4</td>\n",
       "      <td>2013-06-01</td>\n",
       "      <td>241053.14</td>\n",
       "      <td>1087.59</td>\n",
       "      <td>703.07</td>\n",
       "      <td>384.52</td>\n",
       "      <td>0</td>\n",
       "      <td>240668.62</td>\n",
       "    </tr>\n",
       "    <tr>\n",
       "      <th>4</th>\n",
       "      <td>5</td>\n",
       "      <td>2013-07-01</td>\n",
       "      <td>240668.62</td>\n",
       "      <td>1087.59</td>\n",
       "      <td>701.95</td>\n",
       "      <td>385.64</td>\n",
       "      <td>0</td>\n",
       "      <td>240282.98</td>\n",
       "    </tr>\n",
       "    <tr>\n",
       "      <th>5</th>\n",
       "      <td>6</td>\n",
       "      <td>2013-08-01</td>\n",
       "      <td>240282.98</td>\n",
       "      <td>1087.59</td>\n",
       "      <td>700.83</td>\n",
       "      <td>386.76</td>\n",
       "      <td>0</td>\n",
       "      <td>239896.22</td>\n",
       "    </tr>\n",
       "    <tr>\n",
       "      <th>6</th>\n",
       "      <td>7</td>\n",
       "      <td>2013-09-01</td>\n",
       "      <td>239896.22</td>\n",
       "      <td>1087.59</td>\n",
       "      <td>699.70</td>\n",
       "      <td>387.89</td>\n",
       "      <td>0</td>\n",
       "      <td>239508.33</td>\n",
       "    </tr>\n",
       "    <tr>\n",
       "      <th>7</th>\n",
       "      <td>8</td>\n",
       "      <td>2013-10-01</td>\n",
       "      <td>239508.33</td>\n",
       "      <td>1087.59</td>\n",
       "      <td>698.57</td>\n",
       "      <td>389.02</td>\n",
       "      <td>0</td>\n",
       "      <td>239119.31</td>\n",
       "    </tr>\n",
       "    <tr>\n",
       "      <th>8</th>\n",
       "      <td>9</td>\n",
       "      <td>2013-11-01</td>\n",
       "      <td>239119.31</td>\n",
       "      <td>1087.59</td>\n",
       "      <td>697.43</td>\n",
       "      <td>390.16</td>\n",
       "      <td>0</td>\n",
       "      <td>238729.15</td>\n",
       "    </tr>\n",
       "    <tr>\n",
       "      <th>9</th>\n",
       "      <td>10</td>\n",
       "      <td>2013-12-01</td>\n",
       "      <td>238729.15</td>\n",
       "      <td>1087.59</td>\n",
       "      <td>696.29</td>\n",
       "      <td>391.30</td>\n",
       "      <td>0</td>\n",
       "      <td>238337.85</td>\n",
       "    </tr>\n",
       "    <tr>\n",
       "      <th>10</th>\n",
       "      <td>11</td>\n",
       "      <td>2014-01-01</td>\n",
       "      <td>238337.85</td>\n",
       "      <td>1087.59</td>\n",
       "      <td>695.15</td>\n",
       "      <td>392.44</td>\n",
       "      <td>0</td>\n",
       "      <td>237945.41</td>\n",
       "    </tr>\n",
       "    <tr>\n",
       "      <th>11</th>\n",
       "      <td>12</td>\n",
       "      <td>2014-02-01</td>\n",
       "      <td>237945.41</td>\n",
       "      <td>1087.59</td>\n",
       "      <td>694.01</td>\n",
       "      <td>393.58</td>\n",
       "      <td>0</td>\n",
       "      <td>237551.83</td>\n",
       "    </tr>\n",
       "    <tr>\n",
       "      <th>12</th>\n",
       "      <td>13</td>\n",
       "      <td>2014-03-01</td>\n",
       "      <td>237551.83</td>\n",
       "      <td>1087.59</td>\n",
       "      <td>692.86</td>\n",
       "      <td>394.73</td>\n",
       "      <td>0</td>\n",
       "      <td>237157.10</td>\n",
       "    </tr>\n",
       "    <tr>\n",
       "      <th>13</th>\n",
       "      <td>14</td>\n",
       "      <td>2014-04-01</td>\n",
       "      <td>237157.10</td>\n",
       "      <td>1087.59</td>\n",
       "      <td>691.71</td>\n",
       "      <td>395.88</td>\n",
       "      <td>0</td>\n",
       "      <td>236761.22</td>\n",
       "    </tr>\n",
       "    <tr>\n",
       "      <th>14</th>\n",
       "      <td>15</td>\n",
       "      <td>2014-05-01</td>\n",
       "      <td>236761.22</td>\n",
       "      <td>1087.59</td>\n",
       "      <td>690.55</td>\n",
       "      <td>397.04</td>\n",
       "      <td>0</td>\n",
       "      <td>236364.18</td>\n",
       "    </tr>\n",
       "    <tr>\n",
       "      <th>15</th>\n",
       "      <td>16</td>\n",
       "      <td>2014-06-01</td>\n",
       "      <td>236364.18</td>\n",
       "      <td>1087.59</td>\n",
       "      <td>689.40</td>\n",
       "      <td>398.19</td>\n",
       "      <td>0</td>\n",
       "      <td>235965.99</td>\n",
       "    </tr>\n",
       "    <tr>\n",
       "      <th>16</th>\n",
       "      <td>17</td>\n",
       "      <td>2014-07-01</td>\n",
       "      <td>235965.99</td>\n",
       "      <td>1087.59</td>\n",
       "      <td>688.23</td>\n",
       "      <td>399.36</td>\n",
       "      <td>0</td>\n",
       "      <td>235566.63</td>\n",
       "    </tr>\n",
       "    <tr>\n",
       "      <th>17</th>\n",
       "      <td>18</td>\n",
       "      <td>2014-08-01</td>\n",
       "      <td>235566.63</td>\n",
       "      <td>1087.59</td>\n",
       "      <td>687.07</td>\n",
       "      <td>400.52</td>\n",
       "      <td>0</td>\n",
       "      <td>235166.11</td>\n",
       "    </tr>\n",
       "    <tr>\n",
       "      <th>18</th>\n",
       "      <td>19</td>\n",
       "      <td>2014-09-01</td>\n",
       "      <td>235166.11</td>\n",
       "      <td>1087.59</td>\n",
       "      <td>685.90</td>\n",
       "      <td>401.69</td>\n",
       "      <td>0</td>\n",
       "      <td>234764.42</td>\n",
       "    </tr>\n",
       "    <tr>\n",
       "      <th>19</th>\n",
       "      <td>20</td>\n",
       "      <td>2014-10-01</td>\n",
       "      <td>234764.42</td>\n",
       "      <td>1087.59</td>\n",
       "      <td>684.73</td>\n",
       "      <td>402.86</td>\n",
       "      <td>0</td>\n",
       "      <td>234361.56</td>\n",
       "    </tr>\n",
       "  </tbody>\n",
       "</table>\n",
       "</div>"
      ],
      "text/plain": [
       "    Period      Month  Begin Balance  Payment  Interest  Principal  \\\n",
       "0        1 2013-03-01      242200.00  1087.59    706.42     381.17   \n",
       "1        2 2013-04-01      241818.83  1087.59    705.30     382.29   \n",
       "2        3 2013-05-01      241436.54  1087.59    704.19     383.40   \n",
       "3        4 2013-06-01      241053.14  1087.59    703.07     384.52   \n",
       "4        5 2013-07-01      240668.62  1087.59    701.95     385.64   \n",
       "5        6 2013-08-01      240282.98  1087.59    700.83     386.76   \n",
       "6        7 2013-09-01      239896.22  1087.59    699.70     387.89   \n",
       "7        8 2013-10-01      239508.33  1087.59    698.57     389.02   \n",
       "8        9 2013-11-01      239119.31  1087.59    697.43     390.16   \n",
       "9       10 2013-12-01      238729.15  1087.59    696.29     391.30   \n",
       "10      11 2014-01-01      238337.85  1087.59    695.15     392.44   \n",
       "11      12 2014-02-01      237945.41  1087.59    694.01     393.58   \n",
       "12      13 2014-03-01      237551.83  1087.59    692.86     394.73   \n",
       "13      14 2014-04-01      237157.10  1087.59    691.71     395.88   \n",
       "14      15 2014-05-01      236761.22  1087.59    690.55     397.04   \n",
       "15      16 2014-06-01      236364.18  1087.59    689.40     398.19   \n",
       "16      17 2014-07-01      235965.99  1087.59    688.23     399.36   \n",
       "17      18 2014-08-01      235566.63  1087.59    687.07     400.52   \n",
       "18      19 2014-09-01      235166.11  1087.59    685.90     401.69   \n",
       "19      20 2014-10-01      234764.42  1087.59    684.73     402.86   \n",
       "\n",
       "    Additional_Payment  End Balance  \n",
       "0                    0    241818.83  \n",
       "1                    0    241436.54  \n",
       "2                    0    241053.14  \n",
       "3                    0    240668.62  \n",
       "4                    0    240282.98  \n",
       "5                    0    239896.22  \n",
       "6                    0    239508.33  \n",
       "7                    0    239119.31  \n",
       "8                    0    238729.15  \n",
       "9                    0    238337.85  \n",
       "10                   0    237945.41  \n",
       "11                   0    237551.83  \n",
       "12                   0    237157.10  \n",
       "13                   0    236761.22  \n",
       "14                   0    236364.18  \n",
       "15                   0    235965.99  \n",
       "16                   0    235566.63  \n",
       "17                   0    235166.11  \n",
       "18                   0    234764.42  \n",
       "19                   0    234361.56  "
      ]
     },
     "execution_count": 27,
     "metadata": {},
     "output_type": "execute_result"
    }
   ],
   "source": [
    "df.head(20)"
   ]
  },
  {
   "cell_type": "markdown",
   "metadata": {},
   "source": [
    "# Condo scenarios\n",
    "Sales price: $160,000\n",
    "Tammy's interest rate: 4.625%\n",
    "HELOC interest rate: 5.35%\n",
    "\n",
    "10% down payment: $16,000\n",
    "Initial principal: $144,000\n",
    "P&I with 10% down payment:  $740.36\n",
    "PMI: Yes - Until principal balance at or below 20% of sales price\n",
    "HELOC amount: $16,000 (this won't work if minimum draw is $25,000)\n",
    "P&I: $89.35\n",
    "TOTAL: Mortgage P&I + PMI + taxes + insurance + HELOC P&I\n",
    "DEDUCTABLE AMOUNTS: Mortgage Interest + taxes + HELOC Interest\n",
    "\n",
    "15.625% down payment: $25,000\n",
    "Initial principal: $135,000\n",
    "P&I with 15.625% down payment: $694.09\n",
    "PMI: Yes - Until principal balance at or below 20% of sales price\n",
    "HELOC amount: $25,000\n",
    "P&I: $139.60\n",
    "TOTAL: Mortgage P&I + PMI + taxes + insurance + HELOC P&I\n",
    "DEDUCTABLE AMOUNTS: Mortgage Interest + taxes + HELOC Interest\n",
    "\n",
    "20% down payment: $32,000\n",
    "Initial principal: $128,000\n",
    "P&I at 20% down payment:  $658.10\n",
    "PMI: No - Principal balance already at or below 20% of sales price\n",
    "HELOC amount: $32,000\n",
    "P&I: $178.69\n",
    "TOTAL: Mortgage P&I + PMI + taxes + insurance + HELOC P&I\n",
    "DEDUCTABLE AMOUNTS: Mortgage Interest + taxes + HELOC Interest\n"
   ]
  },
  {
   "cell_type": "code",
   "execution_count": 38,
   "metadata": {
    "collapsed": false
   },
   "outputs": [],
   "source": [
    "#10% down\n",
    "sales_price=160000\n",
    "down_payment=.1\n",
    "initial_principal=sales_price-sales_price*down_payment\n",
    "df, stats = amortization_table(initial_principal, .04625, 30, addl_principal=0, start_date=date(2017,6,1))"
   ]
  },
  {
   "cell_type": "code",
   "execution_count": 39,
   "metadata": {
    "collapsed": false
   },
   "outputs": [
    {
     "data": {
      "text/plain": [
       "(Payoff Date           2047-06-01 00:00:00\n",
       " Num Payments                          361\n",
       " Interest Rate                     0.04625\n",
       " Years                                  30\n",
       " Principal                          144000\n",
       " Payment                            740.36\n",
       " Additional Payment                      0\n",
       " Total Interest                     122530\n",
       " dtype: object, 144000.0)"
      ]
     },
     "execution_count": 39,
     "metadata": {},
     "output_type": "execute_result"
    }
   ],
   "source": [
    "stats, initial_principal"
   ]
  },
  {
   "cell_type": "code",
   "execution_count": 44,
   "metadata": {
    "collapsed": true
   },
   "outputs": [],
   "source": [
    "#10% down HELOC\n",
    "sales_price=160000\n",
    "down_payment=.1\n",
    "initial_principal=sales_price*down_payment\n",
    "df, stats = amortization_table(initial_principal, .0535, 30, addl_principal=0, start_date=date(2017,6,1))"
   ]
  },
  {
   "cell_type": "code",
   "execution_count": 45,
   "metadata": {
    "collapsed": false
   },
   "outputs": [
    {
     "data": {
      "text/plain": [
       "(Payoff Date           2047-05-01 00:00:00\n",
       " Num Payments                          360\n",
       " Interest Rate                      0.0535\n",
       " Years                                  30\n",
       " Principal                           16000\n",
       " Payment                             89.35\n",
       " Additional Payment                      0\n",
       " Total Interest                    16162.4\n",
       " dtype: object, 16000.0)"
      ]
     },
     "execution_count": 45,
     "metadata": {},
     "output_type": "execute_result"
    }
   ],
   "source": [
    "stats, initial_principal"
   ]
  },
  {
   "cell_type": "code",
   "execution_count": 40,
   "metadata": {
    "collapsed": true
   },
   "outputs": [],
   "source": [
    "#15.625% down\n",
    "sales_price=160000\n",
    "down_payment=.15625\n",
    "initial_principal=sales_price-sales_price*down_payment\n",
    "df, stats = amortization_table(initial_principal, .04625, 30, addl_principal=0, start_date=date(2017,6,1))"
   ]
  },
  {
   "cell_type": "code",
   "execution_count": 41,
   "metadata": {
    "collapsed": false
   },
   "outputs": [
    {
     "data": {
      "text/plain": [
       "(Payoff Date           2047-05-01 00:00:00\n",
       " Num Payments                          360\n",
       " Interest Rate                     0.04625\n",
       " Years                                  30\n",
       " Principal                          135000\n",
       " Payment                            694.09\n",
       " Additional Payment                      0\n",
       " Total Interest                     114871\n",
       " dtype: object, 135000.0)"
      ]
     },
     "execution_count": 41,
     "metadata": {},
     "output_type": "execute_result"
    }
   ],
   "source": [
    "stats, initial_principal"
   ]
  },
  {
   "cell_type": "code",
   "execution_count": 46,
   "metadata": {
    "collapsed": true
   },
   "outputs": [],
   "source": [
    "#15.625% down HELOC\n",
    "sales_price=160000\n",
    "down_payment=.15625\n",
    "initial_principal=sales_price*down_payment\n",
    "df, stats = amortization_table(initial_principal, .0535, 30, addl_principal=0, start_date=date(2017,6,1))"
   ]
  },
  {
   "cell_type": "code",
   "execution_count": 47,
   "metadata": {
    "collapsed": false
   },
   "outputs": [
    {
     "data": {
      "text/plain": [
       "(Payoff Date           2047-06-01 00:00:00\n",
       " Num Payments                          361\n",
       " Interest Rate                      0.0535\n",
       " Years                                  30\n",
       " Principal                           25000\n",
       " Payment                             139.6\n",
       " Additional Payment                      0\n",
       " Total Interest                    25259.3\n",
       " dtype: object, 25000.0)"
      ]
     },
     "execution_count": 47,
     "metadata": {},
     "output_type": "execute_result"
    }
   ],
   "source": [
    "stats, initial_principal"
   ]
  },
  {
   "cell_type": "code",
   "execution_count": 42,
   "metadata": {
    "collapsed": true
   },
   "outputs": [],
   "source": [
    "#20% down\n",
    "sales_price=160000\n",
    "down_payment=.2\n",
    "initial_principal=sales_price-sales_price*down_payment\n",
    "df, stats = amortization_table(initial_principal, .04625, 30, addl_principal=0, start_date=date(2017,6,1))"
   ]
  },
  {
   "cell_type": "code",
   "execution_count": 43,
   "metadata": {
    "collapsed": false
   },
   "outputs": [
    {
     "data": {
      "text/plain": [
       "(Payoff Date           2047-05-01 00:00:00\n",
       " Num Payments                          360\n",
       " Interest Rate                     0.04625\n",
       " Years                                  30\n",
       " Principal                          128000\n",
       " Payment                             658.1\n",
       " Additional Payment                      0\n",
       " Total Interest                     108915\n",
       " dtype: object, 128000.0)"
      ]
     },
     "execution_count": 43,
     "metadata": {},
     "output_type": "execute_result"
    }
   ],
   "source": [
    "stats, initial_principal"
   ]
  },
  {
   "cell_type": "code",
   "execution_count": 48,
   "metadata": {
    "collapsed": true
   },
   "outputs": [],
   "source": [
    "#20% down HELOC\n",
    "sales_price=160000\n",
    "down_payment=.2\n",
    "initial_principal=sales_price*down_payment\n",
    "df, stats = amortization_table(initial_principal, .0535, 30, addl_principal=0, start_date=date(2017,6,1))"
   ]
  },
  {
   "cell_type": "code",
   "execution_count": 49,
   "metadata": {
    "collapsed": false
   },
   "outputs": [
    {
     "data": {
      "text/plain": [
       "(Payoff Date           2047-06-01 00:00:00\n",
       " Num Payments                          361\n",
       " Interest Rate                      0.0535\n",
       " Years                                  30\n",
       " Principal                           32000\n",
       " Payment                            178.69\n",
       " Additional Payment                      0\n",
       " Total Interest                    32330.6\n",
       " dtype: object, 32000.0)"
      ]
     },
     "execution_count": 49,
     "metadata": {},
     "output_type": "execute_result"
    }
   ],
   "source": [
    "stats, initial_principal"
   ]
  }
 ],
 "metadata": {
  "kernelspec": {
   "display_name": "Python 2",
   "language": "python",
   "name": "python2"
  },
  "language_info": {
   "codemirror_mode": {
    "name": "ipython",
    "version": 2
   },
   "file_extension": ".py",
   "mimetype": "text/x-python",
   "name": "python",
   "nbconvert_exporter": "python",
   "pygments_lexer": "ipython2",
   "version": "2.7.13"
  }
 },
 "nbformat": 4,
 "nbformat_minor": 0
}
